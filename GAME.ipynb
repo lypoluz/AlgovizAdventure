{
 "cells": [
  {
   "cell_type": "code",
   "execution_count": null,
   "id": "english-bathroom",
   "metadata": {},
   "outputs": [],
   "source": [
    "#include \"GameInitializer.hpp\"\n",
    "#include <map>"
   ]
  },
  {
   "cell_type": "code",
   "execution_count": null,
   "id": "chronic-wrapping",
   "metadata": {},
   "outputs": [],
   "source": [
    "const std::map<std::string, std::string> config = {\n",
    "    {\"windowSize\", \"default\"},\n",
    "    {\"playerSpeed\", \"default\"},\n",
    "    {\"funnyEnemies\", \"default\"},\n",
    "}"
   ]
  },
  {
   "cell_type": "code",
   "execution_count": null,
   "id": "fifty-fruit",
   "metadata": {},
   "outputs": [],
   "source": [
    "GameInitializer gi = GameInitializer(config);\n",
    "gi.initialize();"
   ]
  }
 ],
 "metadata": {
  "kernelspec": {
   "display_name": "C++14",
   "language": "C++14",
   "name": "xcpp14"
  },
  "language_info": {
   "codemirror_mode": "text/x-c++src",
   "file_extension": ".cpp",
   "mimetype": "text/x-c++src",
   "name": "c++",
   "version": "14"
  }
 },
 "nbformat": 4,
 "nbformat_minor": 5
}
